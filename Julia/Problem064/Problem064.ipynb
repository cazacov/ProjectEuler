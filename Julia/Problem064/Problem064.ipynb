{
 "cells": [
  {
   "cell_type": "markdown",
   "metadata": {},
   "source": [
    "# Odd period square roots\n",
    "[Project Euler, Problem 64](https://projecteuler.net/problem=64)\n",
    "\n",
    "All square roots are periodic when written as continued fractions and can be written in the form:\n",
    "\n",
    "$\n",
    "\\sqrt{N}=a_0 + \\frac{1}{a_1+\\frac{1}{a_2+\\frac{1}{a_3+...}}}\n",
    "$\n",
    "\n",
    "For example, let us consider $\\sqrt{23}$:\n",
    "\n",
    "$\\sqrt{23} = 4 + \\sqrt{23} - 4 = 4 + \\frac{1}{\\frac{1}{\\sqrt{23}-4}} = 4 + \\frac{1}{1 + \\frac{\\sqrt{23}-3}{7}}$\n",
    "\n",
    "If we continue we would get the following expansion:\n",
    "\n",
    "$\\sqrt{23}=4 + \\frac{1}{1+\\frac{1}{3+\\frac{1}{1 + \\frac{1}{8 + ...}}}}$\n",
    "\n",
    "The process can be summarised as follows:\n",
    "\n",
    "$a_0=4, \\frac{1}{\\sqrt{23}-4}=\\frac{\\sqrt{23}+4}{7}=1+\\frac{\\sqrt{23}-3}{7}$\n",
    "\n",
    "$a_1=1, \\frac{7}{\\sqrt{23}-3}=\\frac{7*(\\sqrt{23}+3)}{14}=3+\\frac{\\sqrt{23}-3}{2}$\n",
    "\n",
    "$a_2=3, \\frac{2}{\\sqrt{23}-3}=\\frac{2*(\\sqrt{23}+3)}{14}=1+\\frac{\\sqrt{23}-4}{7}$\n",
    "\n",
    "$a_3=1, \\frac{7}{\\sqrt{23}-4}=\\frac{7*(\\sqrt{23}+4)}{7}=8+\\sqrt{23}-4$\n",
    "\n",
    "$a_4=8, \\frac{1}{\\sqrt{23}-4}=\\frac{\\sqrt{23}+4}{7}=1+\\frac{\\sqrt{23}-3}{7}$\n",
    "\n",
    "$a_5=1, \\frac{7}{\\sqrt{23}-3}=\\frac{7(\\sqrt{23}+4)}{14}=3+\\frac{\\sqrt{23}-3}{2}$\n",
    "\n",
    "$a_6=3, \\frac{2}{\\sqrt{23}-3}=\\frac{2*(\\sqrt{23}+3)}{14}=1+\\frac{\\sqrt{23}-4}{7}$\n",
    "\n",
    "$a_7=1, \\frac{7}{\\sqrt{23}-4}=\\frac{7*(\\sqrt{23}+4)}{7}=8+\\sqrt{23}-4$\n",
    "\n",
    "It can be seen that the sequence is repeating. For conciseness, we use the notation $\\sqrt{23} = [4; (1,3,1,8)]$, to indicate that the block (1,3,1,8) repeats indefinitely.\n"
   ]
  },
  {
   "cell_type": "markdown",
   "metadata": {},
   "source": [
    "The first ten continued fraction representations of (irrational) square roots are:\n",
    "\n",
    "$\\sqrt{2} = [1; (2)]$, period = 1\n",
    "\n",
    "$\\sqrt{3} = [1; (1,2)]$, period = 2\n",
    "\n",
    "$\\sqrt{5} = [2; (4)]$, period = 1\n",
    "\n",
    "$\\sqrt{6} = [2; (2,4)]$, period = 2\n",
    "\n",
    "$\\sqrt{7} = [2; (1,1,1,4)]$, period = 4\n",
    "\n",
    "$\\sqrt{8} = [2; (1,4)]$, period = 2\n",
    "\n",
    "$\\sqrt{10} = [3; (6)]$, period = 1\n",
    "\n",
    "$\\sqrt{11} = [3; (3,6)]$, period = 2\n",
    "\n",
    "$\\sqrt{12} = [3; (2,6)]$, period = 2\n",
    "\n",
    "$\\sqrt{13} = [3; (1,1,1,1,6)]$, period = 5\n",
    "\n",
    "For exactly four continued fractions, for $N \\leq 13$, have an odd period.\n",
    "\n",
    "How many continued fractions for $N \\leq 10\\,000$ have an odd period?\n"
   ]
  },
  {
   "cell_type": "markdown",
   "metadata": {},
   "source": [
    "## Solution"
   ]
  },
  {
   "cell_type": "code",
   "execution_count": 46,
   "metadata": {},
   "outputs": [
    {
     "data": {
      "text/plain": [
       "period_length (generic function with 1 method)"
      ]
     },
     "execution_count": 46,
     "metadata": {},
     "output_type": "execute_result"
    }
   ],
   "source": [
    "function period_length(n)\n",
    "    s = sqrt(n)\n",
    "    p = floor(s)\n",
    "    q = 1\n",
    "    \n",
    "    if n == p*p\n",
    "        return 0\n",
    "    end\n",
    "    \n",
    "    count = 0\n",
    "    p0 = p\n",
    "    q0 = q\n",
    "    \n",
    "    while count == 0 || p != p0 || q != q0\n",
    "#        println(\"p:\", p, \"  q:\", q)\n",
    "        q = (n - p*p) / q\n",
    "        p = (s + p) ÷ q * q - p   # floor division (\\div TAB), s is not integer!\n",
    "        count = count + 1\n",
    "    end\n",
    "    return count\n",
    "end"
   ]
  },
  {
   "cell_type": "markdown",
   "metadata": {},
   "source": [
    "Let's run some tests"
   ]
  },
  {
   "cell_type": "code",
   "execution_count": 47,
   "metadata": {},
   "outputs": [
    {
     "name": "stdout",
     "output_type": "stream",
     "text": [
      "2 -> 1\n",
      "3 -> 2\n",
      "4 -> 0\n",
      "5 -> 1\n",
      "6 -> 2\n",
      "7 -> 4\n",
      "8 -> 2\n",
      "9 -> 0\n",
      "10 -> 1\n",
      "11 -> 2\n",
      "12 -> 2\n",
      "13 -> 5\n"
     ]
    }
   ],
   "source": [
    "println(2, \" -> \", period_length(2))\n",
    "println(3, \" -> \", period_length(3))\n",
    "println(4, \" -> \", period_length(4))\n",
    "println(5, \" -> \", period_length(5))\n",
    "println(6, \" -> \", period_length(6))\n",
    "println(7, \" -> \", period_length(7))\n",
    "println(8, \" -> \", period_length(8))\n",
    "println(9, \" -> \", period_length(9))\n",
    "println(10, \" -> \", period_length(10))\n",
    "println(11, \" -> \", period_length(11))\n",
    "println(12, \" -> \", period_length(12))\n",
    "println(13, \" -> \", period_length(13))"
   ]
  },
  {
   "cell_type": "markdown",
   "metadata": {},
   "source": [
    "Count how many continued fractions for $N \\leq 10\\,000$ have an odd period:"
   ]
  },
  {
   "cell_type": "code",
   "execution_count": 48,
   "metadata": {},
   "outputs": [
    {
     "name": "stdout",
     "output_type": "stream",
     "text": [
      "Answer: 1322\n"
     ]
    }
   ],
   "source": [
    "count = 0\n",
    "\n",
    "for n in 1:10000\n",
    "    period = period_length(n)\n",
    "    if period % 2 == 1  # It's odd\n",
    "        count = count + 1\n",
    "    end\n",
    "end\n",
    "\n",
    "println(\"Answer: \", count)"
   ]
  },
  {
   "cell_type": "code",
   "execution_count": null,
   "metadata": {},
   "outputs": [],
   "source": []
  }
 ],
 "metadata": {
  "kernelspec": {
   "display_name": "Julia 1.3.1",
   "language": "julia",
   "name": "julia-1.3"
  },
  "language_info": {
   "file_extension": ".jl",
   "mimetype": "application/julia",
   "name": "julia",
   "version": "1.3.1"
  }
 },
 "nbformat": 4,
 "nbformat_minor": 4
}
