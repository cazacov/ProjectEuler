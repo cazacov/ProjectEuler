{
 "cells": [
  {
   "cell_type": "markdown",
   "metadata": {},
   "source": [
    "# Odd period square roots\n",
    "[Project Euler, Problem 64](https://projecteuler.net/problem=64)\n",
    "\n",
    "All square roots are periodic when written as continued fractions and can be written in the form:\n",
    "\n",
    "$\n",
    "\\sqrt{N}=a_0 + \\frac{1}{a_1+\\frac{1}{a_2+\\frac{1}{a_3+...}}}\n",
    "$\n",
    "\n",
    "For example, let us consider $\\sqrt{23}$:\n",
    "\n",
    "$\\sqrt{23} = 4 + \\sqrt{23} - 4 = 4 + \\frac{1}{\\frac{1}{\\sqrt{23}-4}} = 4 + \\frac{1}{1 + \\frac{\\sqrt{23}-3}{7}}$\n",
    "\n",
    "If we continue we would get the following expansion:\n",
    "\n",
    "$\\sqrt{23}=4 + \\frac{1}{1+\\frac{1}{3+\\frac{1}{1 + \\frac{1}{8 + ...}}}}$\n",
    "\n",
    "The process can be summarised as follows:\n",
    "\n",
    "$a_0=4, \\frac{1}{\\sqrt{23}-4}=\\frac{\\sqrt{23}+4}{7}=1+\\frac{\\sqrt{23}-3}{7}$\n",
    "\n",
    "$a_1=1, \\frac{7}{\\sqrt{23}-3}=\\frac{7*(\\sqrt{23}+3)}{14}=3+\\frac{\\sqrt{23}-3}{2}$\n",
    "\n",
    "$a_2=3, \\frac{2}{\\sqrt{23}-3}=\\frac{2*(\\sqrt{23}+3)}{14}=1+\\frac{\\sqrt{23}-4}{7}$\n",
    "\n",
    "$a_3=1, \\frac{7}{\\sqrt{23}-4}=\\frac{7*(\\sqrt{23}+4)}{7}=8+\\sqrt{23}-4$\n",
    "\n",
    "$a_4=8, \\frac{1}{\\sqrt{23}-4}=\\frac{\\sqrt{23}+4}{7}=1+\\frac{\\sqrt{23}-3}{7}$\n",
    "\n",
    "$a_5=1, \\frac{7}{\\sqrt{23}-3}=\\frac{7(\\sqrt{23}+4)}{14}=3+\\frac{\\sqrt{23}-3}{2}$\n",
    "\n",
    "$a_6=3, \\frac{2}{\\sqrt{23}-3}=\\frac{2*(\\sqrt{23}+3)}{14}=1+\\frac{\\sqrt{23}-4}{7}$\n",
    "\n",
    "$a_7=1, \\frac{7}{\\sqrt{23}-4}=\\frac{7*(\\sqrt{23}+4)}{7}=8+\\sqrt{23}-4$\n",
    "\n",
    "It can be seen that the sequence is repeating. For conciseness, we use the notation $\\sqrt{23} = [4; (1,3,1,8)]$, to indicate that the block (1,3,1,8) repeats indefinitely.\n"
   ]
  },
  {
   "cell_type": "markdown",
   "metadata": {},
   "source": [
    "The first ten continued fraction representations of (irrational) square roots are:\n",
    "\n",
    "$\\sqrt{2} = [1; (2)]$, period = 1\n",
    "\n",
    "$\\sqrt{3} = [1; (1,2)]$, period = 2\n",
    "\n",
    "$\\sqrt{5} = [2; (4)]$, period = 1\n",
    "\n",
    "$\\sqrt{6} = [2; (2,4)]$, period = 2\n",
    "\n",
    "$\\sqrt{7} = [2; (1,1,1,4)]$, period = 4\n",
    "\n",
    "$\\sqrt{8} = [2; (1,4)]$, period = 2\n",
    "\n",
    "$\\sqrt{10} = [3; (6)]$, period = 1\n",
    "\n",
    "$\\sqrt{11} = [3; (3,6)]$, period = 2\n",
    "\n",
    "$\\sqrt{12} = [3; (2,6)]$, period = 2\n",
    "\n",
    "$\\sqrt{13} = [3; (1,1,1,1,6)]$, period = 5\n",
    "\n",
    "For exactly four continued fractions, for $N \\leq 13$, have an odd period.\n",
    "\n",
    "How many continued fractions for $N \\leq 10\\,000$ have an odd period?\n"
   ]
  },
  {
   "cell_type": "code",
   "execution_count": 1,
   "metadata": {},
   "outputs": [
    {
     "name": "stdout",
     "output_type": "stream",
     "text": [
      "I am problem 64"
     ]
    }
   ],
   "source": [
    "print(\"I am problem 64\")"
   ]
  },
  {
   "cell_type": "code",
   "execution_count": null,
   "metadata": {},
   "outputs": [],
   "source": []
  }
 ],
 "metadata": {
  "kernelspec": {
   "display_name": "Julia 1.3.1",
   "language": "julia",
   "name": "julia-1.3"
  },
  "language_info": {
   "file_extension": ".jl",
   "mimetype": "application/julia",
   "name": "julia",
   "version": "1.3.1"
  }
 },
 "nbformat": 4,
 "nbformat_minor": 4
}
