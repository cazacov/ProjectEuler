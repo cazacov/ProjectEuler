{
 "cells": [
  {
   "cell_type": "markdown",
   "metadata": {},
   "source": [
    "# Odd period square roots\n",
    "[Project Euler, Problem 64](https://projecteuler.net/problem=64)\n",
    "\n",
    "Любой квадратный корень можно записать в виде периодической цепной дроби в виде:\n",
    "\n",
    "$\n",
    "\\sqrt{N}=a_0 + \\frac{1}{a_1+\\frac{1}{a_2+\\frac{1}{a_3+...}}}\n",
    "$\n",
    "\n",
    "Например рассмотрим $\\sqrt{23}$:\n",
    "\n",
    "$\\sqrt{23} = 4 + \\sqrt{23} - 4 = 4 + \\frac{1}{\\frac{1}{\\sqrt{23}-4}} = 4 + \\frac{1}{1 + \\frac{\\sqrt{23}-3}{7}}$\n",
    "\n",
    "Продолжая, получим следующее разложение:\n",
    "\n",
    "$\\sqrt{23}=4 + \\frac{1}{1+\\frac{1}{3+\\frac{1}{1 + \\frac{1}{8 + ...}}}}$\n",
    "\n",
    "Процесс может быть записан следующим образом:\n",
    "\n",
    "$a_0=4, \\frac{1}{\\sqrt{23}-4}=\\frac{\\sqrt{23}+4}{7}=1+\\frac{\\sqrt{23}-3}{7}$\n",
    "\n",
    "$a_1=1, \\frac{7}{\\sqrt{23}-3}=\\frac{7*(\\sqrt{23}+3)}{14}=3+\\frac{\\sqrt{23}-3}{2}$\n",
    "\n",
    "$a_2=3, \\frac{2}{\\sqrt{23}-3}=\\frac{2*(\\sqrt{23}+3)}{14}=1+\\frac{\\sqrt{23}-4}{7}$\n",
    "\n",
    "$a_3=1, \\frac{7}{\\sqrt{23}-4}=\\frac{7*(\\sqrt{23}+4)}{7}=8+\\sqrt{23}-4$\n",
    "\n",
    "$a_4=8, \\frac{1}{\\sqrt{23}-4}=\\frac{\\sqrt{23}+4}{7}=1+\\frac{\\sqrt{23}-3}{7}$\n",
    "\n",
    "$a_5=1, \\frac{7}{\\sqrt{23}-3}=\\frac{7(\\sqrt{23}+4)}{14}=3+\\frac{\\sqrt{23}-3}{2}$\n",
    "\n",
    "$a_6=3, \\frac{2}{\\sqrt{23}-3}=\\frac{2*(\\sqrt{23}+3)}{14}=1+\\frac{\\sqrt{23}-4}{7}$\n",
    "\n",
    "$a_7=1, \\frac{7}{\\sqrt{23}-4}=\\frac{7*(\\sqrt{23}+4)}{7}=8+\\sqrt{23}-4$\n",
    "\n",
    "Очевидно, что последовательность повторяется. Для краткости будем использовать нотацию $\\sqrt{23} = [4; (1,3,1,8)]$ чтобы показать, что участок (1,3,1,8) повторяется бесконечно.\n"
   ]
  },
  {
   "cell_type": "markdown",
   "metadata": {},
   "source": [
    "Первые десять разложений (иррациональных) квадратных корней в в виде цепных дробей:\n",
    "\n",
    "$\\sqrt{2} = [1; (2)]$, period = 1\n",
    "\n",
    "$\\sqrt{3} = [1; (1,2)]$, period = 2\n",
    "\n",
    "$\\sqrt{5} = [2; (4)]$, period = 1\n",
    "\n",
    "$\\sqrt{6} = [2; (2,4)]$, period = 2\n",
    "\n",
    "$\\sqrt{7} = [2; (1,1,1,4)]$, period = 4\n",
    "\n",
    "$\\sqrt{8} = [2; (1,4)]$, period = 2\n",
    "\n",
    "$\\sqrt{10} = [3; (6)]$, period = 1\n",
    "\n",
    "$\\sqrt{11} = [3; (3,6)]$, period = 2\n",
    "\n",
    "$\\sqrt{12} = [3; (2,6)]$, period = 2\n",
    "\n",
    "$\\sqrt{13} = [3; (1,1,1,1,6)]$, period = 5\n",
    "\n",
    "При $N \\leq 13$ В точности четыре цепных дроби имеют период нечётной длины."
   ]
  },
  {
   "cell_type": "markdown",
   "metadata": {},
   "source": [
    "## Задача\n",
    "Сколько цепных дробей имеют нечётный период при $N \\leq 10\\,000$?"
   ]
  },
  {
   "cell_type": "markdown",
   "metadata": {},
   "source": [
    "## Решение"
   ]
  },
  {
   "cell_type": "code",
   "execution_count": 6,
   "metadata": {},
   "outputs": [
    {
     "data": {
      "text/plain": [
       "period_length (generic function with 1 method)"
      ]
     },
     "execution_count": 6,
     "metadata": {},
     "output_type": "execute_result"
    }
   ],
   "source": [
    "function period_length(n)\n",
    "    s = sqrt(n)\n",
    "    p = floor(s)\n",
    "    q = 1\n",
    "    \n",
    "    if n == p*p\n",
    "        return 0\n",
    "    end\n",
    "    \n",
    "    count = 0\n",
    "    p0 = p\n",
    "    q0 = q\n",
    "    \n",
    "    while true \n",
    "        q = (n - p*p) / q\n",
    "        p = (s + p) ÷ q * q - p   # floor division (\\div TAB), s is not integer!\n",
    "        count = count + 1\n",
    "        if p == p0 && q == q0\n",
    "            return count\n",
    "        end\n",
    "    end\n",
    "end"
   ]
  },
  {
   "cell_type": "markdown",
   "metadata": {},
   "source": [
    "Проверим для некоторых n:"
   ]
  },
  {
   "cell_type": "code",
   "execution_count": 4,
   "metadata": {},
   "outputs": [
    {
     "name": "stdout",
     "output_type": "stream",
     "text": [
      "1 -> 0\n",
      "2 -> 1\n",
      "3 -> 2\n",
      "4 -> 0\n",
      "5 -> 1\n",
      "6 -> 2\n",
      "7 -> 4\n",
      "8 -> 2\n",
      "9 -> 0\n",
      "10 -> 1\n",
      "11 -> 2\n",
      "12 -> 2\n",
      "13 -> 5\n",
      "14 -> 4\n",
      "15 -> 2\n"
     ]
    }
   ],
   "source": [
    "for n in 1:15\n",
    "    println(n, \" -> \", period_length(n))\n",
    "end"
   ]
  },
  {
   "cell_type": "markdown",
   "metadata": {},
   "source": [
    "Подсчитаем количество дробей с нечётным периодом при $N \\leq 10\\,000$:"
   ]
  },
  {
   "cell_type": "code",
   "execution_count": 5,
   "metadata": {},
   "outputs": [
    {
     "name": "stdout",
     "output_type": "stream",
     "text": [
      "Ответ: 1322\n"
     ]
    }
   ],
   "source": [
    "count = 0\n",
    "\n",
    "for n in 1:10000\n",
    "    period = period_length(n)\n",
    "    if period % 2 == 1  # It's odd\n",
    "        count = count + 1\n",
    "    end\n",
    "end\n",
    "\n",
    "println(\"Ответ: \", count)"
   ]
  },
  {
   "cell_type": "code",
   "execution_count": null,
   "metadata": {},
   "outputs": [],
   "source": []
  }
 ],
 "metadata": {
  "kernelspec": {
   "display_name": "Julia 1.3.1",
   "language": "julia",
   "name": "julia-1.3"
  },
  "language_info": {
   "file_extension": ".jl",
   "mimetype": "application/julia",
   "name": "julia",
   "version": "1.3.1"
  }
 },
 "nbformat": 4,
 "nbformat_minor": 4
}
